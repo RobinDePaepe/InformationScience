{
 "cells": [
  {
   "cell_type": "raw",
   "metadata": {},
   "source": [
    "Assignment 2: JSON metadata harvester\n",
    "For your assignement you will be using the JSON data made available through the Europeana Entities API, which allows you to search on or retrieve information from named entities. These named entities (such as persons, topics and places) are part of the Europeana Entity Collection, a collection of entities in the context of Europeana harvested from and linked to controlled vocabularies, such as ​Geonames, DBpedia and Wikidata. It is advisable to read the API’s documentation first.\n",
    "\n",
    "Your assignement is simple. Write a Python script that prompts for user input of a named entity, query the API for that entity, parse the results and print them on standard output.\n",
    "\n",
    "Some tips:\n",
    "You can use the key wskey=apidemo for your API request.\n",
    "A good Python library to access URLs is urllib.\n",
    "Think about what we have seen already about standardizing/normalizing search strings, but take this to the next level.\n",
    "Try to anticipate what can go wrong so the program doesn’t crash in unexpected situations.\n",
    "Test your application with the following search strings: Erasmus, Justus Lipsius and Django Spirelli.\n",
    "If this is an easy task for you, you might think about parsing the results and adding them to your own database structure, e.g. XML or SQLite."
   ]
  },
  {
   "cell_type": "code",
   "execution_count": 1,
   "metadata": {},
   "outputs": [],
   "source": [
    "#imports\n",
    "import json\n"
   ]
  },
  {
   "cell_type": "code",
   "execution_count": null,
   "metadata": {},
   "outputs": [],
   "source": [
    "#standardize the data\n",
    "def normalize(string):\n",
    "    #make string lower case\n",
    "    casefold_ = string.casefold()\n",
    "    # strip punctuation\n",
    "    strip_punct = normalize.translate(normalize.maketrans(\"\",\"\", string.punctuation))\n",
    "    # normalize accents\n",
    "    #https://stackoverflow.com/questions/517923/what-is-the-best-way-to-remove-accents-normalize-in-a-python-unicode-string\n",
    "    import unidecode\n",
    "    decoded = unidecode.unidecode(strip_punct)\n",
    "    #take care of spaces\n",
    "    if len(decoded) > 1:\n",
    "        normalized = decoded.replace(\" \", \"%20\")\n",
    "        \n",
    "    return normalized\n",
    "\n",
    "\n",
    "normalize(input_data)\n",
    "\n",
    "#make output function\n",
    "def give_output():\n",
    "    input_data = input(\"Please give the entity you would like to search for within th European Entity library:\")\n",
    "    input_ = normalize(input_data)\n",
    "    #perform search\n",
    "    url = \"https://www.europeana.eu/api/entities/suggest?wskey=apidemo&text=\" + input_\n",
    "    search_api(url)\n",
    "\n",
    "\n",
    "# search through API\n",
    "def search_api(url):\n",
    "    # open url and convert content into json file\n",
    "    import urllib\n",
    "    open_url = urllib.urlopen(url)\n",
    "    #convert into json file\n",
    "    json_file = open_url.json()\n",
    "    # extract content \n",
    "    try: \n",
    "        json_output = json_file['items']\n",
    "        # show content json file\n",
    "        for data in json_output:\n",
    "            print(data)\n",
    "        except KeyError:\n",
    "            except KeyError:\n",
    "            print(\"This entity does not seem to appear in our API, please try an alternative search\")\n",
    "        give_output()"
   ]
  },
  {
   "cell_type": "code",
   "execution_count": null,
   "metadata": {},
   "outputs": [],
   "source": [
    "give_output('Erasmus')"
   ]
  },
  {
   "cell_type": "code",
   "execution_count": null,
   "metadata": {},
   "outputs": [],
   "source": [
    "give_output('Justus Lipsius')"
   ]
  },
  {
   "cell_type": "code",
   "execution_count": null,
   "metadata": {},
   "outputs": [],
   "source": [
    "give_output('Django Spirelli')"
   ]
  }
 ],
 "metadata": {
  "kernelspec": {
   "display_name": "Python 3",
   "language": "python",
   "name": "python3"
  },
  "language_info": {
   "codemirror_mode": {
    "name": "ipython",
    "version": 3
   },
   "file_extension": ".py",
   "mimetype": "text/x-python",
   "name": "python",
   "nbconvert_exporter": "python",
   "pygments_lexer": "ipython3",
   "version": "3.8.5"
  }
 },
 "nbformat": 4,
 "nbformat_minor": 4
}
